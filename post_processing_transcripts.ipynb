{
 "cells": [
  {
   "cell_type": "code",
   "execution_count": 2,
   "metadata": {},
   "outputs": [],
   "source": [
    "import pandas \n",
    "import numpy as np\n",
    "import re\n",
    "import glob"
   ]
  },
  {
   "cell_type": "code",
   "execution_count": 7,
   "metadata": {},
   "outputs": [
    {
     "data": {
      "text/plain": [
       "376"
      ]
     },
     "execution_count": 7,
     "metadata": {},
     "output_type": "execute_result"
    }
   ],
   "source": [
    "len(glob.glob('transcripts/*.txt'))"
   ]
  },
  {
   "cell_type": "code",
   "execution_count": 10,
   "metadata": {},
   "outputs": [],
   "source": [
    "for transcript_loc in glob.glob('transcripts/*.txt'):\n",
    "    with open(transcript_loc, 'r') as f:\n",
    "        transcript = f.read()\n",
    "        # We remove some whitespaces to allow for better sentence tokenization\n",
    "        transcript = transcript.replace('Mr. ', 'Mr.').replace('Dr. ', 'Dr.').replace('. ', '.\\n')\n",
    "        post_loc = transcript_loc.replace('transcripts', 'post_transcripts')\n",
    "\n",
    "        with open(post_loc, 'w') as f:\n",
    "            f.write(transcript)"
   ]
  }
 ],
 "metadata": {
  "kernelspec": {
   "display_name": "finance-env",
   "language": "python",
   "name": "finance-env"
  },
  "language_info": {
   "codemirror_mode": {
    "name": "ipython",
    "version": 3
   },
   "file_extension": ".py",
   "mimetype": "text/x-python",
   "name": "python",
   "nbconvert_exporter": "python",
   "pygments_lexer": "ipython3",
   "version": "3.10.6"
  },
  "orig_nbformat": 4
 },
 "nbformat": 4,
 "nbformat_minor": 2
}
